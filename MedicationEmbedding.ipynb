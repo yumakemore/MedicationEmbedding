{
  "nbformat": 4,
  "nbformat_minor": 0,
  "metadata": {
    "colab": {
      "name": "MedicationEmbedding.ipynb",
      "provenance": [],
      "collapsed_sections": [],
      "toc_visible": true,
      "include_colab_link": true
    },
    "kernelspec": {
      "name": "python3",
      "display_name": "Python 3"
    }
  },
  "cells": [
    {
      "cell_type": "markdown",
      "metadata": {
        "id": "view-in-github",
        "colab_type": "text"
      },
      "source": [
        "<a href=\"https://colab.research.google.com/github/yumakemore/MedicationEmbedding/blob/master/MedicationEmbedding.ipynb\" target=\"_parent\"><img src=\"https://colab.research.google.com/assets/colab-badge.svg\" alt=\"Open In Colab\"/></a>"
      ]
    },
    {
      "cell_type": "markdown",
      "metadata": {
        "id": "wXOcaGpgncP5",
        "colab_type": "text"
      },
      "source": [
        "# MedicationEmbedding\n",
        "Note: You must upload concepts in a csv and events in a csv under the folder icon on the left bar on Colab to run this notebook. \n",
        "\n",
        "\n"
      ]
    },
    {
      "cell_type": "code",
      "metadata": {
        "id": "EVsm-WzZngDO",
        "colab_type": "code",
        "colab": {}
      },
      "source": [
        "import pandas as pd\n",
        "import sys\n"
      ],
      "execution_count": 0,
      "outputs": []
    },
    {
      "cell_type": "markdown",
      "metadata": {
        "id": "wB8pkJzAoTTb",
        "colab_type": "text"
      },
      "source": [
        "\n",
        "\n",
        "Read Medication Events (event_csv.csv) into a Pandas DataFrame (event_df);\n",
        "Read Medication Concepts (concept_csv.csv) into a Pandas DataFrame (concept_df)."
      ]
    },
    {
      "cell_type": "code",
      "metadata": {
        "id": "jQA-2smPw5MO",
        "colab_type": "code",
        "colab": {}
      },
      "source": [
        "import datetime\n",
        "\n",
        "# Path to the data file\n",
        "location = r'./event_csv.csv'\n",
        "#location = 'https://drive.google.com/open?id=1vbZ8LTh7luNR7dmzZk30iKLeWSBkNAk3'\n",
        "\n",
        "# Parse the data file\n",
        "event_df = pd.read_csv(location, sep=',', dtype={'encounter':'Int64'})\n",
        "event_df['start_date']=pd.to_datetime(event_df['start_date'])\n",
        "event_df['last_modified']=pd.to_datetime(event_df['last_modified'])\n",
        "event_df['date_recorded']=pd.to_datetime(event_df['date_recorded'])\n",
        "\n",
        "# Path to the data file\n",
        "location = r'./concept_csv.csv'\n",
        "#location = 'https://drive.google.com/open?id=1h9Ok1O740qbz70qLpbmUVX-0Ga5BVt0S'\n",
        "\n",
        "# Parse the data file\n",
        "concept_df = pd.read_csv(location, sep=',')\n",
        "concept_df['start_date']=pd.to_datetime(concept_df['start_date'])\n",
        "concept_df['end_date']=pd.to_datetime(concept_df['end_date'])\n",
        "\n",
        "#Check out the data\n",
        "print(\"---event_df Schema---\\n\")\n",
        "print(event_df.dtypes,\"\\n\")\n",
        "print(\"---event_df First 5 Rows---\\n\")\n",
        "print(event_df.head(),\"\\n\")\n",
        "#print(event_df.tail())\n",
        "print(\"---concept_df Schema---\\n\")\n",
        "print(concept_df.dtypes,\"\\n\")\n",
        "print(\"---concept_df First 5 Rows---\\n\")\n",
        "print(concept_df.head(),\"\\n\")\n",
        "#print(concept_df.tail())"
      ],
      "execution_count": 0,
      "outputs": []
    },
    {
      "cell_type": "code",
      "metadata": {
        "id": "ZeZ6aQjOm1Ui",
        "colab_type": "code",
        "colab": {}
      },
      "source": [
        "pd.set_option('display.max_columns', None)\n",
        "pd.set_option('display.width', 2000)\n",
        "pd.set_option('display.max_rows', None)"
      ],
      "execution_count": 0,
      "outputs": []
    },
    {
      "cell_type": "markdown",
      "metadata": {
        "id": "Xxb6PTd1pAK_",
        "colab_type": "text"
      },
      "source": [
        "# Word/Name Embedding to capture the concepts co-occurrance as vector similarity"
      ]
    },
    {
      "cell_type": "code",
      "metadata": {
        "id": "FebBOJs8kMEg",
        "colab_type": "code",
        "colab": {}
      },
      "source": [
        "import re\n",
        "\n",
        "concept_df_sort_by_user=concept_df.sort_values(['user','start_date'])\n",
        "concept_df_sort_by_user=concept_df_sort_by_user.reset_index(drop=True)\n",
        "#print (concept_df_sort_by_user.head(100))\n",
        "for index, row in concept_df_sort_by_user.iterrows():\n",
        "  try:\n",
        "    if concept_df_sort_by_user.at[index,'user'] != concept_df_sort_by_user.at[index-1,'user']:\n",
        "      concept_df_sort_by_user.at[index-1,'name_clean']= str(concept_df_sort_by_user.at[index-1,'name_clean'])+\"\\n\"\n",
        "  except:\n",
        "      continue\n",
        "\n",
        "concept_text=str(concept_df_sort_by_user['name_clean'].str.cat(sep=' '))\n",
        "concept_text=re.sub('\\n\\s+', '\\n', concept_text)\n",
        "\n",
        "print(concept_text)\n",
        "\n",
        "f = open(\"./concept_name_clean.txt\", \"w\")\n",
        "f.write(concept_text)\n",
        "f.close()"
      ],
      "execution_count": 0,
      "outputs": []
    },
    {
      "cell_type": "markdown",
      "metadata": {
        "id": "azmoo0l-kYci",
        "colab_type": "text"
      },
      "source": [
        "# Neural Network Preparation"
      ]
    },
    {
      "cell_type": "code",
      "metadata": {
        "id": "pJcoySLHpNWM",
        "colab_type": "code",
        "colab": {
          "base_uri": "https://localhost:8080/",
          "height": 68
        },
        "outputId": "f5c2b80e-4b71-46c4-943d-4087861f92e2"
      },
      "source": [
        "from __future__ import absolute_import, division, print_function, unicode_literals\n",
        "\n",
        "try:\n",
        "  # %tensorflow_version only exists in Colab.\n",
        "  !pip install -q tf-nightly\n",
        "except Exception:\n",
        "  pass\n",
        "import tensorflow as tf"
      ],
      "execution_count": 6,
      "outputs": [
        {
          "output_type": "stream",
          "text": [
            "\u001b[K     |████████████████████████████████| 517.2MB 30kB/s \n",
            "\u001b[K     |████████████████████████████████| 2.9MB 48.4MB/s \n",
            "\u001b[K     |████████████████████████████████| 460kB 45.7MB/s \n",
            "\u001b[?25h"
          ],
          "name": "stdout"
        }
      ]
    },
    {
      "cell_type": "code",
      "metadata": {
        "id": "7HSSqZIkpUlP",
        "colab_type": "code",
        "colab": {}
      },
      "source": [
        "from tensorflow import keras\n",
        "from tensorflow.keras import layers\n",
        "\n",
        "import tensorflow_datasets as tfds\n",
        "tfds.disable_progress_bar()"
      ],
      "execution_count": 0,
      "outputs": []
    },
    {
      "cell_type": "code",
      "metadata": {
        "id": "Lwiy2rSYzeeO",
        "colab_type": "code",
        "colab": {}
      },
      "source": [
        "#--- Load Data from concept_name_clean.txt\n",
        "def labeler(example, index):\n",
        "  return example, tf.cast(index, tf.int64)\n",
        "labeled_data_sets = []\n",
        "lines_dataset = tf.data.TextLineDataset('./concept_name_clean.txt')\n",
        "labeled_dataset = lines_dataset.map(lambda ex: labeler(ex, 0))\n",
        "labeled_data_sets.append(labeled_dataset)\n"
      ],
      "execution_count": 0,
      "outputs": []
    },
    {
      "cell_type": "code",
      "metadata": {
        "id": "fSw6D8yAt2N5",
        "colab_type": "code",
        "colab": {}
      },
      "source": [
        "BUFFER_SIZE = 500\n",
        "BATCH_SIZE = 4\n",
        "TAKE_SIZE = 10\n",
        "\n",
        "all_labeled_data = labeled_data_sets[0]\n",
        "for labeled_dataset in labeled_data_sets[1:]:\n",
        "  all_labeled_data = all_labeled_data.concatenate(labeled_dataset)\n",
        "  \n",
        "all_labeled_data = all_labeled_data.shuffle(\n",
        "    BUFFER_SIZE, reshuffle_each_iteration=False)\n",
        "\n",
        "for ex in all_labeled_data.take(5):\n",
        "  print(ex)\n"
      ],
      "execution_count": 0,
      "outputs": []
    },
    {
      "cell_type": "code",
      "metadata": {
        "id": "zZJtI-89xMKj",
        "colab_type": "code",
        "outputId": "81cfbdce-8774-4249-d0f9-3bb04a70bc10",
        "colab": {
          "base_uri": "https://localhost:8080/",
          "height": 34
        }
      },
      "source": [
        "tokenizer = tfds.features.text.Tokenizer()\n",
        "\n",
        "vocabulary_set = set()\n",
        "for text_tensor, _ in all_labeled_data:\n",
        "  some_tokens = tokenizer.tokenize(text_tensor.numpy())\n",
        "  vocabulary_set.update(some_tokens)\n",
        "\n",
        "vocab_size = len(vocabulary_set)\n",
        "vocab_size"
      ],
      "execution_count": 10,
      "outputs": [
        {
          "output_type": "execute_result",
          "data": {
            "text/plain": [
              "288"
            ]
          },
          "metadata": {
            "tags": []
          },
          "execution_count": 10
        }
      ]
    },
    {
      "cell_type": "code",
      "metadata": {
        "id": "yblhEvtvxZ8l",
        "colab_type": "code",
        "colab": {}
      },
      "source": [
        "encoder = tfds.features.text.TokenTextEncoder(vocabulary_set)\n",
        "example_text = next(iter(all_labeled_data))[0].numpy()\n",
        "print(example_text)\n",
        "encoded_example = encoder.encode(example_text)\n",
        "print(encoded_example)"
      ],
      "execution_count": 0,
      "outputs": []
    },
    {
      "cell_type": "code",
      "metadata": {
        "id": "TlcR3DgkxuAL",
        "colab_type": "code",
        "colab": {}
      },
      "source": [
        "def encode(text_tensor, label):\n",
        "  encoded_text = encoder.encode(text_tensor.numpy())\n",
        "  return encoded_text, label\n"
      ],
      "execution_count": 0,
      "outputs": []
    },
    {
      "cell_type": "code",
      "metadata": {
        "id": "IxNWB9rSx4Fy",
        "colab_type": "code",
        "colab": {}
      },
      "source": [
        "def encode_map_fn(text, label):\n",
        "  # py_func doesn't set the shape of the returned tensors.\n",
        "  encoded_text, label = tf.py_function(encode, \n",
        "                                       inp=[text, label], \n",
        "                                       Tout=(tf.int64, tf.int64))\n",
        "\n",
        "  # `tf.data.Datasets` work best if all components have a shape set\n",
        "  #  so set the shapes manually: \n",
        "  encoded_text.set_shape([None])\n",
        "  label.set_shape([])\n",
        "\n",
        "  return encoded_text, label\n",
        "\n",
        "\n",
        "all_encoded_data = all_labeled_data.map(encode_map_fn)"
      ],
      "execution_count": 0,
      "outputs": []
    },
    {
      "cell_type": "code",
      "metadata": {
        "id": "U6G2TKgax-LF",
        "colab_type": "code",
        "outputId": "71a36a0f-2087-4b9c-b4c4-dd2b9762bcf7",
        "colab": {
          "base_uri": "https://localhost:8080/",
          "height": 595
        }
      },
      "source": [
        "train_data = all_encoded_data.skip(TAKE_SIZE).shuffle(BUFFER_SIZE)\n",
        "train_data = train_data.padded_batch(BATCH_SIZE)\n",
        "\n",
        "test_data = all_encoded_data.take(TAKE_SIZE)\n",
        "test_data = test_data.padded_batch(BATCH_SIZE)\n",
        "\n",
        "try:\n",
        "  print (next(iter(train_data)))\n",
        "except:\n",
        "  print(\"End of dataset\")  # ==> \"End of dataset\"\n",
        "print (next(iter(test_data)))"
      ],
      "execution_count": 14,
      "outputs": [
        {
          "output_type": "stream",
          "text": [
            "(<tf.Tensor: shape=(4, 58), dtype=int64, numpy=\n",
            "array([[ 65, 107, 287, 121, 126,   0,   0,   0,   0,   0,   0,   0,   0,\n",
            "          0,   0,   0,   0,   0,   0,   0,   0,   0,   0,   0,   0,   0,\n",
            "          0,   0,   0,   0,   0,   0,   0,   0,   0,   0,   0,   0,   0,\n",
            "          0,   0,   0,   0,   0,   0,   0,   0,   0,   0,   0,   0,   0,\n",
            "          0,   0,   0,   0,   0,   0],\n",
            "       [  5, 275, 249, 266, 282, 178,   0,   0,   0,   0,   0,   0,   0,\n",
            "          0,   0,   0,   0,   0,   0,   0,   0,   0,   0,   0,   0,   0,\n",
            "          0,   0,   0,   0,   0,   0,   0,   0,   0,   0,   0,   0,   0,\n",
            "          0,   0,   0,   0,   0,   0,   0,   0,   0,   0,   0,   0,   0,\n",
            "          0,   0,   0,   0,   0,   0],\n",
            "       [257,  75,  25, 259, 192, 237,  67,   0,   0,   0,   0,   0,   0,\n",
            "          0,   0,   0,   0,   0,   0,   0,   0,   0,   0,   0,   0,   0,\n",
            "          0,   0,   0,   0,   0,   0,   0,   0,   0,   0,   0,   0,   0,\n",
            "          0,   0,   0,   0,   0,   0,   0,   0,   0,   0,   0,   0,   0,\n",
            "          0,   0,   0,   0,   0,   0],\n",
            "       [168, 197, 153, 157,  54,  15, 184, 160, 196,  28, 125, 286, 122,\n",
            "         33, 140, 138,   7, 224, 109, 221, 226, 195, 171, 267,  73, 135,\n",
            "         66,  47, 117,  24, 150, 288, 263, 105, 101, 222, 145, 281,  64,\n",
            "        169, 227, 181,   6,  37, 235, 173, 198, 270, 197, 153, 188, 197,\n",
            "         17, 273, 153, 159, 116,  17]])>, <tf.Tensor: shape=(4,), dtype=int64, numpy=array([0, 0, 0, 0])>)\n",
            "(<tf.Tensor: shape=(4, 27), dtype=int64, numpy=\n",
            "array([[ 19,  61, 147, 173, 221, 285,   7, 224, 175,  41, 278, 136, 154,\n",
            "         14,  69,  98, 172, 201, 110,  46, 176, 215, 234, 156,   0,   0,\n",
            "          0],\n",
            "       [160,  57,   1,  82,  59,  30, 102,  74, 284,  37,  42, 173, 118,\n",
            "        144, 102, 190,  51, 158, 103, 195, 148, 268,  20, 250, 243, 269,\n",
            "        210],\n",
            "       [189, 199, 236,  40, 185,  77,   1,  82, 229, 169,  47,   0,   0,\n",
            "          0,   0,   0,   0,   0,   0,   0,   0,   0,   0,   0,   0,   0,\n",
            "          0],\n",
            "       [123, 183, 164, 180,  27, 186, 120,   0,   0,   0,   0,   0,   0,\n",
            "          0,   0,   0,   0,   0,   0,   0,   0,   0,   0,   0,   0,   0,\n",
            "          0]])>, <tf.Tensor: shape=(4,), dtype=int64, numpy=array([0, 0, 0, 0])>)\n"
          ],
          "name": "stdout"
        }
      ]
    },
    {
      "cell_type": "code",
      "metadata": {
        "id": "QOnCwzL-x_wY",
        "colab_type": "code",
        "outputId": "a1ea3671-0905-4378-f470-689a3fd6788b",
        "colab": {
          "base_uri": "https://localhost:8080/",
          "height": 187
        }
      },
      "source": [
        "sample_text, sample_labels = next(iter(test_data))\n",
        "\n",
        "print (sample_text[0], \"\\n\", sample_labels[0], \"\\n\\n\")\n",
        "print (sample_text[1], \"\\n\", sample_labels[1])"
      ],
      "execution_count": 15,
      "outputs": [
        {
          "output_type": "stream",
          "text": [
            "tf.Tensor(\n",
            "[ 19  61 147 173 221 285   7 224 175  41 278 136 154  14  69  98 172 201\n",
            " 110  46 176 215 234 156   0   0   0], shape=(27,), dtype=int64) \n",
            " tf.Tensor(0, shape=(), dtype=int64) \n",
            "\n",
            "\n",
            "tf.Tensor(\n",
            "[160  57   1  82  59  30 102  74 284  37  42 173 118 144 102 190  51 158\n",
            " 103 195 148 268  20 250 243 269 210], shape=(27,), dtype=int64) \n",
            " tf.Tensor(0, shape=(), dtype=int64)\n"
          ],
          "name": "stdout"
        }
      ]
    },
    {
      "cell_type": "code",
      "metadata": {
        "id": "q_cc_tDRyKYQ",
        "colab_type": "code",
        "colab": {}
      },
      "source": [
        "vocab_size += 1"
      ],
      "execution_count": 0,
      "outputs": []
    },
    {
      "cell_type": "markdown",
      "metadata": {
        "id": "coKreFXYkjKF",
        "colab_type": "text"
      },
      "source": [
        "# LSTM Model"
      ]
    },
    {
      "cell_type": "code",
      "metadata": {
        "id": "E9N2RlySyQ9f",
        "colab_type": "code",
        "outputId": "0e85bc7e-68ef-4aa2-ccd2-1a5c8a3b1e69",
        "colab": {
          "base_uri": "https://localhost:8080/",
          "height": 323
        }
      },
      "source": [
        "embedding_dim=16\n",
        "model = tf.keras.Sequential()\n",
        "model.add(tf.keras.layers.Embedding(vocab_size, embedding_dim))\n",
        "model.add(tf.keras.layers.Bidirectional(tf.keras.layers.LSTM(embedding_dim)))\n",
        "# One or more dense layers.\n",
        "# Edit the list in the `for` line to experiment with layer sizes.\n",
        "for units in [embedding_dim, embedding_dim]:\n",
        "  model.add(tf.keras.layers.Dense(units, activation='relu'))\n",
        "\n",
        "# Output layer. The first argument is the number of labels.\n",
        "model.add(tf.keras.layers.Dense(3))\n",
        "\n",
        "model.summary()\n"
      ],
      "execution_count": 17,
      "outputs": [
        {
          "output_type": "stream",
          "text": [
            "Model: \"sequential\"\n",
            "_________________________________________________________________\n",
            "Layer (type)                 Output Shape              Param #   \n",
            "=================================================================\n",
            "embedding (Embedding)        (None, None, 16)          4624      \n",
            "_________________________________________________________________\n",
            "bidirectional (Bidirectional (None, 32)                4224      \n",
            "_________________________________________________________________\n",
            "dense (Dense)                (None, 16)                528       \n",
            "_________________________________________________________________\n",
            "dense_1 (Dense)              (None, 16)                272       \n",
            "_________________________________________________________________\n",
            "dense_2 (Dense)              (None, 3)                 51        \n",
            "=================================================================\n",
            "Total params: 9,699\n",
            "Trainable params: 9,699\n",
            "Non-trainable params: 0\n",
            "_________________________________________________________________\n"
          ],
          "name": "stdout"
        }
      ]
    },
    {
      "cell_type": "code",
      "metadata": {
        "id": "QJRinoVNht4c",
        "colab_type": "code",
        "outputId": "38d54fc4-50c1-42d5-e20a-6c5e219065db",
        "colab": {
          "base_uri": "https://localhost:8080/",
          "height": 1000
        }
      },
      "source": [
        "\n",
        "model.compile(optimizer='adam',\n",
        "              loss=tf.keras.losses.SparseCategoricalCrossentropy(from_logits=True),\n",
        "              metrics=['accuracy'])\n",
        "\n",
        "history = model.fit(\n",
        "    #train_batches,\n",
        "    train_data,\n",
        "    epochs=100,\n",
        "    #validation_data=test_batches, validation_steps=20)\n",
        "    validation_data=test_data)"
      ],
      "execution_count": 18,
      "outputs": [
        {
          "output_type": "stream",
          "text": [
            "Epoch 1/100\n",
            "5/5 [==============================] - 1s 168ms/step - loss: 1.0878 - accuracy: 0.8333 - val_loss: 1.0707 - val_accuracy: 1.0000\n",
            "Epoch 2/100\n",
            "5/5 [==============================] - 0s 19ms/step - loss: 1.0508 - accuracy: 1.0000 - val_loss: 1.0198 - val_accuracy: 1.0000\n",
            "Epoch 3/100\n",
            "5/5 [==============================] - 0s 25ms/step - loss: 0.9925 - accuracy: 1.0000 - val_loss: 0.9487 - val_accuracy: 1.0000\n",
            "Epoch 4/100\n",
            "5/5 [==============================] - 0s 21ms/step - loss: 0.9029 - accuracy: 1.0000 - val_loss: 0.8540 - val_accuracy: 1.0000\n",
            "Epoch 5/100\n",
            "5/5 [==============================] - 0s 16ms/step - loss: 0.8194 - accuracy: 1.0000 - val_loss: 0.7321 - val_accuracy: 1.0000\n",
            "Epoch 6/100\n",
            "5/5 [==============================] - 0s 18ms/step - loss: 0.6536 - accuracy: 1.0000 - val_loss: 0.5787 - val_accuracy: 1.0000\n",
            "Epoch 7/100\n",
            "5/5 [==============================] - 0s 20ms/step - loss: 0.4829 - accuracy: 1.0000 - val_loss: 0.3887 - val_accuracy: 1.0000\n",
            "Epoch 8/100\n",
            "5/5 [==============================] - 0s 22ms/step - loss: 0.2615 - accuracy: 1.0000 - val_loss: 0.1929 - val_accuracy: 1.0000\n",
            "Epoch 9/100\n",
            "5/5 [==============================] - 0s 22ms/step - loss: 0.1344 - accuracy: 1.0000 - val_loss: 0.0583 - val_accuracy: 1.0000\n",
            "Epoch 10/100\n",
            "5/5 [==============================] - 0s 21ms/step - loss: 0.0569 - accuracy: 1.0000 - val_loss: 0.0117 - val_accuracy: 1.0000\n",
            "Epoch 11/100\n",
            "5/5 [==============================] - 0s 22ms/step - loss: 0.0055 - accuracy: 1.0000 - val_loss: 0.0024 - val_accuracy: 1.0000\n",
            "Epoch 12/100\n",
            "5/5 [==============================] - 0s 19ms/step - loss: 0.0030 - accuracy: 1.0000 - val_loss: 7.0686e-04 - val_accuracy: 1.0000\n",
            "Epoch 13/100\n",
            "5/5 [==============================] - 0s 16ms/step - loss: 0.0031 - accuracy: 1.0000 - val_loss: 2.8942e-04 - val_accuracy: 1.0000\n",
            "Epoch 14/100\n",
            "5/5 [==============================] - 0s 19ms/step - loss: 0.0021 - accuracy: 1.0000 - val_loss: 1.4494e-04 - val_accuracy: 1.0000\n",
            "Epoch 15/100\n",
            "5/5 [==============================] - 0s 18ms/step - loss: 0.0020 - accuracy: 1.0000 - val_loss: 8.8971e-05 - val_accuracy: 1.0000\n",
            "Epoch 16/100\n",
            "5/5 [==============================] - 0s 18ms/step - loss: 0.0194 - accuracy: 1.0000 - val_loss: 5.9938e-05 - val_accuracy: 1.0000\n",
            "Epoch 17/100\n",
            "5/5 [==============================] - 0s 21ms/step - loss: 1.0956e-04 - accuracy: 1.0000 - val_loss: 3.9447e-05 - val_accuracy: 1.0000\n",
            "Epoch 18/100\n",
            "5/5 [==============================] - 0s 20ms/step - loss: 0.0156 - accuracy: 1.0000 - val_loss: 2.7318e-05 - val_accuracy: 1.0000\n",
            "Epoch 19/100\n",
            "5/5 [==============================] - 0s 20ms/step - loss: 8.1226e-04 - accuracy: 1.0000 - val_loss: 1.8904e-05 - val_accuracy: 1.0000\n",
            "Epoch 20/100\n",
            "5/5 [==============================] - 0s 19ms/step - loss: 0.0205 - accuracy: 1.0000 - val_loss: 1.3659e-05 - val_accuracy: 1.0000\n",
            "Epoch 21/100\n",
            "5/5 [==============================] - 0s 19ms/step - loss: 2.4353e-05 - accuracy: 1.0000 - val_loss: 9.1989e-06 - val_accuracy: 1.0000\n",
            "Epoch 22/100\n",
            "5/5 [==============================] - 0s 17ms/step - loss: 2.4569e-04 - accuracy: 1.0000 - val_loss: 7.1525e-06 - val_accuracy: 1.0000\n",
            "Epoch 23/100\n",
            "5/5 [==============================] - 0s 20ms/step - loss: 3.1333e-04 - accuracy: 1.0000 - val_loss: 5.9704e-06 - val_accuracy: 1.0000\n",
            "Epoch 24/100\n",
            "5/5 [==============================] - 0s 19ms/step - loss: 7.7763e-05 - accuracy: 1.0000 - val_loss: 5.2650e-06 - val_accuracy: 1.0000\n",
            "Epoch 25/100\n",
            "5/5 [==============================] - 0s 15ms/step - loss: 0.0039 - accuracy: 1.0000 - val_loss: 4.7187e-06 - val_accuracy: 1.0000\n",
            "Epoch 26/100\n",
            "5/5 [==============================] - 0s 15ms/step - loss: 1.1173e-04 - accuracy: 1.0000 - val_loss: 4.0034e-06 - val_accuracy: 1.0000\n",
            "Epoch 27/100\n",
            "5/5 [==============================] - 0s 18ms/step - loss: 1.0992e-04 - accuracy: 1.0000 - val_loss: 3.5564e-06 - val_accuracy: 1.0000\n",
            "Epoch 28/100\n",
            "5/5 [==============================] - 0s 19ms/step - loss: 5.5790e-05 - accuracy: 1.0000 - val_loss: 3.2981e-06 - val_accuracy: 1.0000\n",
            "Epoch 29/100\n",
            "5/5 [==============================] - 0s 20ms/step - loss: 1.3926e-04 - accuracy: 1.0000 - val_loss: 3.0994e-06 - val_accuracy: 1.0000\n",
            "Epoch 30/100\n",
            "5/5 [==============================] - 0s 20ms/step - loss: 1.6778e-05 - accuracy: 1.0000 - val_loss: 3.0001e-06 - val_accuracy: 1.0000\n",
            "Epoch 31/100\n",
            "5/5 [==============================] - 0s 24ms/step - loss: 5.3703e-06 - accuracy: 1.0000 - val_loss: 2.9107e-06 - val_accuracy: 1.0000\n",
            "Epoch 32/100\n",
            "5/5 [==============================] - 0s 16ms/step - loss: 1.3858e-05 - accuracy: 1.0000 - val_loss: 2.8312e-06 - val_accuracy: 1.0000\n",
            "Epoch 33/100\n",
            "5/5 [==============================] - 0s 18ms/step - loss: 3.9105e-05 - accuracy: 1.0000 - val_loss: 2.8014e-06 - val_accuracy: 1.0000\n",
            "Epoch 34/100\n",
            "5/5 [==============================] - 0s 20ms/step - loss: 6.1929e-06 - accuracy: 1.0000 - val_loss: 2.7716e-06 - val_accuracy: 1.0000\n",
            "Epoch 35/100\n",
            "5/5 [==============================] - 0s 19ms/step - loss: 9.3876e-06 - accuracy: 1.0000 - val_loss: 2.7517e-06 - val_accuracy: 1.0000\n",
            "Epoch 36/100\n",
            "5/5 [==============================] - 0s 17ms/step - loss: 4.8704e-04 - accuracy: 1.0000 - val_loss: 2.6425e-06 - val_accuracy: 1.0000\n",
            "Epoch 37/100\n",
            "5/5 [==============================] - 0s 21ms/step - loss: 0.0037 - accuracy: 1.0000 - val_loss: 2.2153e-06 - val_accuracy: 1.0000\n",
            "Epoch 38/100\n",
            "5/5 [==============================] - 0s 24ms/step - loss: 3.9756e-06 - accuracy: 1.0000 - val_loss: 1.9570e-06 - val_accuracy: 1.0000\n",
            "Epoch 39/100\n",
            "5/5 [==============================] - 0s 18ms/step - loss: 6.4432e-06 - accuracy: 1.0000 - val_loss: 1.7683e-06 - val_accuracy: 1.0000\n",
            "Epoch 40/100\n",
            "5/5 [==============================] - 0s 16ms/step - loss: 4.6610e-06 - accuracy: 1.0000 - val_loss: 1.6789e-06 - val_accuracy: 1.0000\n",
            "Epoch 41/100\n",
            "5/5 [==============================] - 0s 16ms/step - loss: 8.4667e-05 - accuracy: 1.0000 - val_loss: 1.6391e-06 - val_accuracy: 1.0000\n",
            "Epoch 42/100\n",
            "5/5 [==============================] - 0s 15ms/step - loss: 5.0783e-06 - accuracy: 1.0000 - val_loss: 1.5696e-06 - val_accuracy: 1.0000\n",
            "Epoch 43/100\n",
            "5/5 [==============================] - 0s 21ms/step - loss: 3.9292e-05 - accuracy: 1.0000 - val_loss: 1.5299e-06 - val_accuracy: 1.0000\n",
            "Epoch 44/100\n",
            "5/5 [==============================] - 0s 21ms/step - loss: 5.5092e-05 - accuracy: 1.0000 - val_loss: 1.5000e-06 - val_accuracy: 1.0000\n",
            "Epoch 45/100\n",
            "5/5 [==============================] - 0s 15ms/step - loss: 3.2962e-04 - accuracy: 1.0000 - val_loss: 1.4603e-06 - val_accuracy: 1.0000\n",
            "Epoch 46/100\n",
            "5/5 [==============================] - 0s 18ms/step - loss: 7.9146e-05 - accuracy: 1.0000 - val_loss: 1.4106e-06 - val_accuracy: 1.0000\n",
            "Epoch 47/100\n",
            "5/5 [==============================] - 0s 16ms/step - loss: 3.4932e-04 - accuracy: 1.0000 - val_loss: 1.3014e-06 - val_accuracy: 1.0000\n",
            "Epoch 48/100\n",
            "5/5 [==============================] - 0s 18ms/step - loss: 0.0030 - accuracy: 1.0000 - val_loss: 1.2020e-06 - val_accuracy: 1.0000\n",
            "Epoch 49/100\n",
            "5/5 [==============================] - 0s 15ms/step - loss: 6.0852e-05 - accuracy: 1.0000 - val_loss: 1.0331e-06 - val_accuracy: 1.0000\n",
            "Epoch 50/100\n",
            "5/5 [==============================] - 0s 16ms/step - loss: 3.4876e-04 - accuracy: 1.0000 - val_loss: 9.0400e-07 - val_accuracy: 1.0000\n",
            "Epoch 51/100\n",
            "5/5 [==============================] - 0s 15ms/step - loss: 0.0044 - accuracy: 1.0000 - val_loss: 7.8479e-07 - val_accuracy: 1.0000\n",
            "Epoch 52/100\n",
            "5/5 [==============================] - 0s 15ms/step - loss: 0.0044 - accuracy: 1.0000 - val_loss: 5.8611e-07 - val_accuracy: 1.0000\n",
            "Epoch 53/100\n",
            "5/5 [==============================] - 0s 16ms/step - loss: 0.0014 - accuracy: 1.0000 - val_loss: 4.1723e-07 - val_accuracy: 1.0000\n",
            "Epoch 54/100\n",
            "5/5 [==============================] - 0s 18ms/step - loss: 2.4764e-05 - accuracy: 1.0000 - val_loss: 2.9802e-07 - val_accuracy: 1.0000\n",
            "Epoch 55/100\n",
            "5/5 [==============================] - 0s 20ms/step - loss: 0.0013 - accuracy: 1.0000 - val_loss: 2.4835e-07 - val_accuracy: 1.0000\n",
            "Epoch 56/100\n",
            "5/5 [==============================] - 0s 18ms/step - loss: 2.2650e-07 - accuracy: 1.0000 - val_loss: 2.1855e-07 - val_accuracy: 1.0000\n",
            "Epoch 57/100\n",
            "5/5 [==============================] - 0s 21ms/step - loss: 0.0010 - accuracy: 1.0000 - val_loss: 1.8875e-07 - val_accuracy: 1.0000\n",
            "Epoch 58/100\n",
            "5/5 [==============================] - 0s 21ms/step - loss: 8.3962e-04 - accuracy: 1.0000 - val_loss: 1.6888e-07 - val_accuracy: 1.0000\n",
            "Epoch 59/100\n",
            "5/5 [==============================] - 0s 20ms/step - loss: 3.4571e-07 - accuracy: 1.0000 - val_loss: 1.5895e-07 - val_accuracy: 1.0000\n",
            "Epoch 60/100\n",
            "5/5 [==============================] - 0s 14ms/step - loss: 7.5516e-06 - accuracy: 1.0000 - val_loss: 1.5895e-07 - val_accuracy: 1.0000\n",
            "Epoch 61/100\n",
            "5/5 [==============================] - 0s 20ms/step - loss: 4.3808e-06 - accuracy: 1.0000 - val_loss: 1.4901e-07 - val_accuracy: 1.0000\n",
            "Epoch 62/100\n",
            "5/5 [==============================] - 0s 18ms/step - loss: 6.0675e-06 - accuracy: 1.0000 - val_loss: 1.4901e-07 - val_accuracy: 1.0000\n",
            "Epoch 63/100\n",
            "5/5 [==============================] - 0s 16ms/step - loss: 0.0084 - accuracy: 1.0000 - val_loss: 1.2914e-07 - val_accuracy: 1.0000\n",
            "Epoch 64/100\n",
            "5/5 [==============================] - 0s 22ms/step - loss: 8.3446e-08 - accuracy: 1.0000 - val_loss: 8.9407e-08 - val_accuracy: 1.0000\n",
            "Epoch 65/100\n",
            "5/5 [==============================] - 0s 19ms/step - loss: 3.5379e-04 - accuracy: 1.0000 - val_loss: 3.9736e-08 - val_accuracy: 1.0000\n",
            "Epoch 66/100\n",
            "5/5 [==============================] - 0s 20ms/step - loss: 2.3246e-06 - accuracy: 1.0000 - val_loss: 2.9802e-08 - val_accuracy: 1.0000\n",
            "Epoch 67/100\n",
            "5/5 [==============================] - 0s 23ms/step - loss: 5.4001e-06 - accuracy: 1.0000 - val_loss: 1.9868e-08 - val_accuracy: 1.0000\n",
            "Epoch 68/100\n",
            "5/5 [==============================] - 0s 16ms/step - loss: 0.0048 - accuracy: 1.0000 - val_loss: 1.9868e-08 - val_accuracy: 1.0000\n",
            "Epoch 69/100\n",
            "5/5 [==============================] - 0s 22ms/step - loss: 1.3709e-07 - accuracy: 1.0000 - val_loss: 1.9868e-08 - val_accuracy: 1.0000\n",
            "Epoch 70/100\n",
            "5/5 [==============================] - 0s 22ms/step - loss: 2.2475e-05 - accuracy: 1.0000 - val_loss: 1.9868e-08 - val_accuracy: 1.0000\n",
            "Epoch 71/100\n",
            "5/5 [==============================] - 0s 16ms/step - loss: 1.7524e-06 - accuracy: 1.0000 - val_loss: 1.9868e-08 - val_accuracy: 1.0000\n",
            "Epoch 72/100\n",
            "5/5 [==============================] - 0s 20ms/step - loss: 5.9605e-09 - accuracy: 1.0000 - val_loss: 1.9868e-08 - val_accuracy: 1.0000\n",
            "Epoch 73/100\n",
            "5/5 [==============================] - 0s 18ms/step - loss: 7.8082e-07 - accuracy: 1.0000 - val_loss: 9.9341e-09 - val_accuracy: 1.0000\n",
            "Epoch 74/100\n",
            "5/5 [==============================] - 0s 15ms/step - loss: 2.5026e-05 - accuracy: 1.0000 - val_loss: 9.9341e-09 - val_accuracy: 1.0000\n",
            "Epoch 75/100\n",
            "5/5 [==============================] - 0s 18ms/step - loss: 1.0192e-06 - accuracy: 1.0000 - val_loss: 9.9341e-09 - val_accuracy: 1.0000\n",
            "Epoch 76/100\n",
            "5/5 [==============================] - 0s 23ms/step - loss: 4.2498e-06 - accuracy: 1.0000 - val_loss: 9.9341e-09 - val_accuracy: 1.0000\n",
            "Epoch 77/100\n",
            "5/5 [==============================] - 0s 20ms/step - loss: 3.3974e-06 - accuracy: 1.0000 - val_loss: 9.9341e-09 - val_accuracy: 1.0000\n",
            "Epoch 78/100\n",
            "5/5 [==============================] - 0s 24ms/step - loss: 2.7459e-04 - accuracy: 1.0000 - val_loss: 9.9341e-09 - val_accuracy: 1.0000\n",
            "Epoch 79/100\n",
            "5/5 [==============================] - 0s 17ms/step - loss: 0.0000e+00 - accuracy: 1.0000 - val_loss: 9.9341e-09 - val_accuracy: 1.0000\n",
            "Epoch 80/100\n",
            "5/5 [==============================] - 0s 22ms/step - loss: 5.9605e-08 - accuracy: 1.0000 - val_loss: 0.0000e+00 - val_accuracy: 1.0000\n",
            "Epoch 81/100\n",
            "5/5 [==============================] - 0s 18ms/step - loss: 1.4901e-06 - accuracy: 1.0000 - val_loss: 0.0000e+00 - val_accuracy: 1.0000\n",
            "Epoch 82/100\n",
            "5/5 [==============================] - 0s 18ms/step - loss: 2.1194e-05 - accuracy: 1.0000 - val_loss: 0.0000e+00 - val_accuracy: 1.0000\n",
            "Epoch 83/100\n",
            "5/5 [==============================] - 0s 21ms/step - loss: 8.9407e-07 - accuracy: 1.0000 - val_loss: 0.0000e+00 - val_accuracy: 1.0000\n",
            "Epoch 84/100\n",
            "5/5 [==============================] - 0s 19ms/step - loss: 8.8811e-07 - accuracy: 1.0000 - val_loss: 0.0000e+00 - val_accuracy: 1.0000\n",
            "Epoch 85/100\n",
            "5/5 [==============================] - 0s 25ms/step - loss: 4.1723e-08 - accuracy: 1.0000 - val_loss: 0.0000e+00 - val_accuracy: 1.0000\n",
            "Epoch 86/100\n",
            "5/5 [==============================] - 0s 21ms/step - loss: 8.7217e-04 - accuracy: 1.0000 - val_loss: 0.0000e+00 - val_accuracy: 1.0000\n",
            "Epoch 87/100\n",
            "5/5 [==============================] - 0s 19ms/step - loss: 2.0385e-06 - accuracy: 1.0000 - val_loss: 0.0000e+00 - val_accuracy: 1.0000\n",
            "Epoch 88/100\n",
            "5/5 [==============================] - 0s 20ms/step - loss: 2.9802e-08 - accuracy: 1.0000 - val_loss: 0.0000e+00 - val_accuracy: 1.0000\n",
            "Epoch 89/100\n",
            "5/5 [==============================] - 0s 56ms/step - loss: 1.1921e-08 - accuracy: 1.0000 - val_loss: 0.0000e+00 - val_accuracy: 1.0000\n",
            "Epoch 90/100\n",
            "5/5 [==============================] - 0s 37ms/step - loss: 4.7684e-08 - accuracy: 1.0000 - val_loss: 0.0000e+00 - val_accuracy: 1.0000\n",
            "Epoch 91/100\n",
            "5/5 [==============================] - 0s 34ms/step - loss: 1.8572e-04 - accuracy: 1.0000 - val_loss: 0.0000e+00 - val_accuracy: 1.0000\n",
            "Epoch 92/100\n",
            "5/5 [==============================] - 0s 41ms/step - loss: 0.0000e+00 - accuracy: 1.0000 - val_loss: 0.0000e+00 - val_accuracy: 1.0000\n",
            "Epoch 93/100\n",
            "5/5 [==============================] - 0s 42ms/step - loss: 6.9141e-07 - accuracy: 1.0000 - val_loss: 0.0000e+00 - val_accuracy: 1.0000\n",
            "Epoch 94/100\n",
            "5/5 [==============================] - 0s 42ms/step - loss: 1.1921e-08 - accuracy: 1.0000 - val_loss: 0.0000e+00 - val_accuracy: 1.0000\n",
            "Epoch 95/100\n",
            "5/5 [==============================] - 0s 37ms/step - loss: 6.3181e-07 - accuracy: 1.0000 - val_loss: 0.0000e+00 - val_accuracy: 1.0000\n",
            "Epoch 96/100\n",
            "5/5 [==============================] - 0s 41ms/step - loss: 1.1265e-06 - accuracy: 1.0000 - val_loss: 0.0000e+00 - val_accuracy: 1.0000\n",
            "Epoch 97/100\n",
            "5/5 [==============================] - 0s 41ms/step - loss: 1.2577e-06 - accuracy: 1.0000 - val_loss: 0.0000e+00 - val_accuracy: 1.0000\n",
            "Epoch 98/100\n",
            "5/5 [==============================] - 0s 34ms/step - loss: 1.3244e-04 - accuracy: 1.0000 - val_loss: 0.0000e+00 - val_accuracy: 1.0000\n",
            "Epoch 99/100\n",
            "5/5 [==============================] - 0s 34ms/step - loss: 1.9610e-06 - accuracy: 1.0000 - val_loss: 0.0000e+00 - val_accuracy: 1.0000\n",
            "Epoch 100/100\n",
            "5/5 [==============================] - 0s 39ms/step - loss: 2.3842e-08 - accuracy: 1.0000 - val_loss: 0.0000e+00 - val_accuracy: 1.0000\n"
          ],
          "name": "stdout"
        }
      ]
    },
    {
      "cell_type": "code",
      "metadata": {
        "id": "OMhd1D_ah8nd",
        "colab_type": "code",
        "outputId": "baa2073f-48fb-4ab0-f087-cf4f7095ab7e",
        "colab": {
          "base_uri": "https://localhost:8080/",
          "height": 1000
        }
      },
      "source": [
        "import matplotlib.pyplot as plt\n",
        "\n",
        "history_dict = history.history\n",
        "\n",
        "acc = history_dict['accuracy']\n",
        "val_acc = history_dict['val_accuracy']\n",
        "loss=history_dict['loss']\n",
        "val_loss=history_dict['val_loss']\n",
        "\n",
        "epochs = range(1, len(acc) + 1)\n",
        "\n",
        "plt.figure(figsize=(12,9))\n",
        "plt.plot(epochs, loss, 'bo', label='Training loss')\n",
        "plt.plot(epochs, val_loss, 'b', label='Validation loss')\n",
        "plt.title('Training and validation loss')\n",
        "plt.xlabel('Epochs')\n",
        "plt.ylabel('Loss')\n",
        "plt.legend()\n",
        "plt.show()\n",
        "\n",
        "plt.figure(figsize=(12,9))\n",
        "plt.plot(epochs, acc, 'bo', label='Training acc')\n",
        "plt.plot(epochs, val_acc, 'b', label='Validation acc')\n",
        "plt.title('Training and validation accuracy')\n",
        "plt.xlabel('Epochs')\n",
        "plt.ylabel('Accuracy')\n",
        "plt.legend(loc='lower right')\n",
        "plt.ylim((0.5,1))\n",
        "plt.show()"
      ],
      "execution_count": 19,
      "outputs": [
        {
          "output_type": "display_data",
          "data": {
            "image/png": "[encoded data removed]",
            "text/plain": [
              "<Figure size 864x648 with 1 Axes>"
            ]
          },
          "metadata": {
            "tags": []
          }
        },
        {
          "output_type": "display_data",
          "data": {
            "image/png": "[encoded data removed]",
            "text/plain": [
              "<Figure size 864x648 with 1 Axes>"
            ]
          },
          "metadata": {
            "tags": []
          }
        }
      ]
    },
    {
      "cell_type": "code",
      "metadata": {
        "id": "C2WOtlkRyvvM",
        "colab_type": "code",
        "outputId": "bd1d1c02-13d1-4540-f4d8-9f28f34bfb61",
        "colab": {
          "base_uri": "https://localhost:8080/",
          "height": 68
        }
      },
      "source": [
        "eval_loss, eval_acc = model.evaluate(test_data)\n",
        "\n",
        "print('\\nEval loss: {:.12f}, Eval accuracy: {:.12f}'.format(eval_loss, eval_acc))\n"
      ],
      "execution_count": 20,
      "outputs": [
        {
          "output_type": "stream",
          "text": [
            "3/3 [==============================] - 0s 5ms/step - loss: 0.0000e+00 - accuracy: 1.0000\n",
            "\n",
            "Eval loss: 0.000000000000, Eval accuracy: 1.000000000000\n"
          ],
          "name": "stdout"
        }
      ]
    },
    {
      "cell_type": "code",
      "metadata": {
        "id": "n20bAWHQiTET",
        "colab_type": "code",
        "outputId": "1c2d9ea1-d34f-4a66-f84e-b7c11e3d62dc",
        "colab": {
          "base_uri": "https://localhost:8080/",
          "height": 34
        }
      },
      "source": [
        "e = model.layers[0]\n",
        "weights = e.get_weights()[0]\n",
        "print(weights.shape) # shape: (vocab_size, embedding_dim)"
      ],
      "execution_count": 21,
      "outputs": [
        {
          "output_type": "stream",
          "text": [
            "(289, 16)\n"
          ],
          "name": "stdout"
        }
      ]
    },
    {
      "cell_type": "code",
      "metadata": {
        "id": "TwTSqqTXiUMZ",
        "colab_type": "code",
        "colab": {}
      },
      "source": [
        "print (vocabulary_set)"
      ],
      "execution_count": 0,
      "outputs": []
    },
    {
      "cell_type": "code",
      "metadata": {
        "id": "K7wGS9h9icoA",
        "colab_type": "code",
        "colab": {}
      },
      "source": [
        "import io\n",
        "\n",
        "#encoder = info.features['text'].encoder\n",
        "\n",
        "out_v = io.open('vecs_LSTM.tsv', 'w', encoding='utf-8')\n",
        "out_m = io.open('meta_LSTM.tsv', 'w', encoding='utf-8')\n",
        "\n",
        "#for num, word in enumerate(encoder.subwords):\n",
        "for num, word in enumerate(vocabulary_set):\n",
        "  print (num, \"\\n\", word)\n",
        "  vec = weights[num+1] # skip 0, it's padding.\n",
        "  out_m.write(word + \"\\n\")\n",
        "  out_v.write('\\t'.join([str(x) for x in vec]) + \"\\n\")\n",
        "out_v.close()\n",
        "out_m.close()"
      ],
      "execution_count": 0,
      "outputs": []
    },
    {
      "cell_type": "code",
      "metadata": {
        "id": "ePhQlKQYipiK",
        "colab_type": "code",
        "colab": {}
      },
      "source": [
        "try:\n",
        "  from google.colab import files\n",
        "except ImportError:\n",
        "   pass\n",
        "else:\n",
        "  files.download('vecs_LSTM.tsv')\n",
        "  files.download('meta_LSTM.tsv')"
      ],
      "execution_count": 0,
      "outputs": []
    },
    {
      "cell_type": "markdown",
      "metadata": {
        "id": "MIi9_63Siwzm",
        "colab_type": "text"
      },
      "source": [
        "Visualize the embeddings\n",
        "\n",
        "To visualize our embeddings we will upload them to the embedding projector.\n",
        "Open the Embedding Projector (http://projector.tensorflow.org).\n",
        "Click on \"Load data\". Upload the two files we created above: vecs_LSTM.tsv and meta_LSTM.tsv. The embeddings you have trained will now be displayed. You can search for words to find their closest neighbors. For example, try searching for \"beautiful\". You may see neighbors like \"wonderful\".\n"
      ]
    },
    {
      "cell_type": "markdown",
      "metadata": {
        "id": "sb2tLcUut3BP",
        "colab_type": "text"
      },
      "source": [
        "# Alternative: Pooling instead of LSTM (lower performance)\n"
      ]
    },
    {
      "cell_type": "code",
      "metadata": {
        "id": "q0070Z4xpZwI",
        "colab_type": "code",
        "colab": {}
      },
      "source": [
        "embedding_layer = layers.Embedding(100, 5)"
      ],
      "execution_count": 0,
      "outputs": []
    },
    {
      "cell_type": "code",
      "metadata": {
        "id": "6etgTG5Mp25S",
        "colab_type": "code",
        "outputId": "ff711026-598d-4696-fb8c-a11d0ad7da6a",
        "colab": {
          "base_uri": "https://localhost:8080/",
          "height": 34
        }
      },
      "source": [
        "result = embedding_layer(tf.constant([[0,1,2],[3,4,5]]))\n",
        "result.shape"
      ],
      "execution_count": 26,
      "outputs": [
        {
          "output_type": "execute_result",
          "data": {
            "text/plain": [
              "TensorShape([2, 3, 5])"
            ]
          },
          "metadata": {
            "tags": []
          },
          "execution_count": 26
        }
      ]
    },
    {
      "cell_type": "code",
      "metadata": {
        "id": "AAOyG7-7qfAN",
        "colab_type": "code",
        "colab": {}
      },
      "source": [
        "train_batches = train_data.shuffle(100).padded_batch(10)\n",
        "test_batches = test_data.shuffle(100).padded_batch(10)"
      ],
      "execution_count": 0,
      "outputs": []
    },
    {
      "cell_type": "code",
      "metadata": {
        "id": "-5asUhRJqwFA",
        "colab_type": "code",
        "outputId": "23ece3c3-f562-44e0-e92b-9a473cfdb21c",
        "colab": {
          "base_uri": "https://localhost:8080/",
          "height": 986
        }
      },
      "source": [
        "train_batch, train_labels = next(iter(train_batches))\n",
        "print (train_batch, \"\\n\\n\",train_labels,\"\\n\")\n",
        "train_batch.numpy()"
      ],
      "execution_count": 28,
      "outputs": [
        {
          "output_type": "stream",
          "text": [
            "tf.Tensor(\n",
            "[[[216 128  44 ...   0   0   0]\n",
            "  [170  95  44 ...   0   0   0]\n",
            "  [251 128  44 ...   0   0   0]\n",
            "  [168 197 153 ... 159 116  17]]\n",
            "\n",
            " [[169 205  47 ...   0   0   0]\n",
            "  [ 65 107 287 ...   0   0   0]\n",
            "  [113  29 139 ...   0   0   0]\n",
            "  [251 204   1 ...   0   0   0]]\n",
            "\n",
            " [[164 183 208 ...   0   0   0]\n",
            "  [  5 275 249 ...   0   0   0]\n",
            "  [ 62 169  34 ...   0   0   0]\n",
            "  [138   7 224 ...   0   0   0]]\n",
            "\n",
            " [[257  75  25 ...   0   0   0]\n",
            "  [124 162  68 ...   0   0   0]\n",
            "  [ 84  15  26 ...   0   0   0]\n",
            "  [ 63  83 218 ...   0   0   0]]\n",
            "\n",
            " [[ 87  96 107 ...   0   0   0]\n",
            "  [233 119 213 ...   0   0   0]\n",
            "  [  0   0   0 ...   0   0   0]\n",
            "  [  0   0   0 ...   0   0   0]]], shape=(5, 4, 58), dtype=int64) \n",
            "\n",
            " tf.Tensor(\n",
            "[[0 0 0 0]\n",
            " [0 0 0 0]\n",
            " [0 0 0 0]\n",
            " [0 0 0 0]\n",
            " [0 0 0 0]], shape=(5, 4), dtype=int64) \n",
            "\n"
          ],
          "name": "stdout"
        },
        {
          "output_type": "execute_result",
          "data": {
            "text/plain": [
              "array([[[216, 128,  44, ...,   0,   0,   0],\n",
              "        [170,  95,  44, ...,   0,   0,   0],\n",
              "        [251, 128,  44, ...,   0,   0,   0],\n",
              "        [168, 197, 153, ..., 159, 116,  17]],\n",
              "\n",
              "       [[169, 205,  47, ...,   0,   0,   0],\n",
              "        [ 65, 107, 287, ...,   0,   0,   0],\n",
              "        [113,  29, 139, ...,   0,   0,   0],\n",
              "        [251, 204,   1, ...,   0,   0,   0]],\n",
              "\n",
              "       [[164, 183, 208, ...,   0,   0,   0],\n",
              "        [  5, 275, 249, ...,   0,   0,   0],\n",
              "        [ 62, 169,  34, ...,   0,   0,   0],\n",
              "        [138,   7, 224, ...,   0,   0,   0]],\n",
              "\n",
              "       [[257,  75,  25, ...,   0,   0,   0],\n",
              "        [124, 162,  68, ...,   0,   0,   0],\n",
              "        [ 84,  15,  26, ...,   0,   0,   0],\n",
              "        [ 63,  83, 218, ...,   0,   0,   0]],\n",
              "\n",
              "       [[ 87,  96, 107, ...,   0,   0,   0],\n",
              "        [233, 119, 213, ...,   0,   0,   0],\n",
              "        [  0,   0,   0, ...,   0,   0,   0],\n",
              "        [  0,   0,   0, ...,   0,   0,   0]]])"
            ]
          },
          "metadata": {
            "tags": []
          },
          "execution_count": 28
        }
      ]
    },
    {
      "cell_type": "code",
      "metadata": {
        "id": "RqA_bH0WqxX3",
        "colab_type": "code",
        "outputId": "dc7ea016-20b8-43af-f0ce-8d44748f5002",
        "colab": {
          "base_uri": "https://localhost:8080/",
          "height": 289
        }
      },
      "source": [
        "embedding_dim=16\n",
        "\n",
        "model = keras.Sequential([\n",
        "  layers.Embedding(encoder.vocab_size, embedding_dim),\n",
        "  layers.GlobalAveragePooling1D(),\n",
        "  layers.Dense(16, activation='relu'),\n",
        "  layers.Dense(1)\n",
        "])\n",
        "\n",
        "model.summary()"
      ],
      "execution_count": 29,
      "outputs": [
        {
          "output_type": "stream",
          "text": [
            "Model: \"sequential_1\"\n",
            "_________________________________________________________________\n",
            "Layer (type)                 Output Shape              Param #   \n",
            "=================================================================\n",
            "embedding_2 (Embedding)      (None, None, 16)          4640      \n",
            "_________________________________________________________________\n",
            "global_average_pooling1d (Gl (None, 16)                0         \n",
            "_________________________________________________________________\n",
            "dense_3 (Dense)              (None, 16)                272       \n",
            "_________________________________________________________________\n",
            "dense_4 (Dense)              (None, 1)                 17        \n",
            "=================================================================\n",
            "Total params: 4,929\n",
            "Trainable params: 4,929\n",
            "Non-trainable params: 0\n",
            "_________________________________________________________________\n"
          ],
          "name": "stdout"
        }
      ]
    },
    {
      "cell_type": "code",
      "metadata": {
        "id": "8tXd2RaIqzup",
        "colab_type": "code",
        "outputId": "0b0b04c5-70b5-419a-bf91-147978236f52",
        "colab": {
          "base_uri": "https://localhost:8080/",
          "height": 1000
        }
      },
      "source": [
        "model.compile(optimizer='adam',\n",
        "              loss=tf.keras.losses.BinaryCrossentropy(from_logits=True),\n",
        "              metrics=['accuracy'])\n",
        "\n",
        "history = model.fit(\n",
        "    #train_batches,\n",
        "    train_data,\n",
        "    epochs=100,\n",
        "    #validation_data=test_batches, validation_steps=20)\n",
        "    validation_data=test_data)"
      ],
      "execution_count": 30,
      "outputs": [
        {
          "output_type": "stream",
          "text": [
            "Epoch 1/100\n",
            "5/5 [==============================] - 0s 26ms/step - loss: 0.6782 - accuracy: 1.0000 - val_loss: 0.6742 - val_accuracy: 1.0000\n",
            "Epoch 2/100\n",
            "5/5 [==============================] - 0s 8ms/step - loss: 0.6633 - accuracy: 1.0000 - val_loss: 0.6621 - val_accuracy: 1.0000\n",
            "Epoch 3/100\n",
            "5/5 [==============================] - 0s 8ms/step - loss: 0.6549 - accuracy: 1.0000 - val_loss: 0.6492 - val_accuracy: 1.0000\n",
            "Epoch 4/100\n",
            "5/5 [==============================] - 0s 8ms/step - loss: 0.6354 - accuracy: 1.0000 - val_loss: 0.6352 - val_accuracy: 1.0000\n",
            "Epoch 5/100\n",
            "5/5 [==============================] - 0s 8ms/step - loss: 0.6160 - accuracy: 1.0000 - val_loss: 0.6203 - val_accuracy: 1.0000\n",
            "Epoch 6/100\n",
            "5/5 [==============================] - 0s 8ms/step - loss: 0.5980 - accuracy: 1.0000 - val_loss: 0.6047 - val_accuracy: 1.0000\n",
            "Epoch 7/100\n",
            "5/5 [==============================] - 0s 8ms/step - loss: 0.5818 - accuracy: 1.0000 - val_loss: 0.5888 - val_accuracy: 1.0000\n",
            "Epoch 8/100\n",
            "5/5 [==============================] - 0s 8ms/step - loss: 0.5593 - accuracy: 1.0000 - val_loss: 0.5721 - val_accuracy: 1.0000\n",
            "Epoch 9/100\n",
            "5/5 [==============================] - 0s 8ms/step - loss: 0.5411 - accuracy: 1.0000 - val_loss: 0.5549 - val_accuracy: 1.0000\n",
            "Epoch 10/100\n",
            "5/5 [==============================] - 0s 7ms/step - loss: 0.5214 - accuracy: 1.0000 - val_loss: 0.5372 - val_accuracy: 1.0000\n",
            "Epoch 11/100\n",
            "5/5 [==============================] - 0s 8ms/step - loss: 0.4972 - accuracy: 1.0000 - val_loss: 0.5188 - val_accuracy: 1.0000\n",
            "Epoch 12/100\n",
            "5/5 [==============================] - 0s 8ms/step - loss: 0.4744 - accuracy: 1.0000 - val_loss: 0.4999 - val_accuracy: 1.0000\n",
            "Epoch 13/100\n",
            "5/5 [==============================] - 0s 9ms/step - loss: 0.4628 - accuracy: 1.0000 - val_loss: 0.4807 - val_accuracy: 1.0000\n",
            "Epoch 14/100\n",
            "5/5 [==============================] - 0s 7ms/step - loss: 0.4225 - accuracy: 1.0000 - val_loss: 0.4611 - val_accuracy: 1.0000\n",
            "Epoch 15/100\n",
            "5/5 [==============================] - 0s 7ms/step - loss: 0.4085 - accuracy: 1.0000 - val_loss: 0.4413 - val_accuracy: 1.0000\n",
            "Epoch 16/100\n",
            "5/5 [==============================] - 0s 7ms/step - loss: 0.3854 - accuracy: 1.0000 - val_loss: 0.4209 - val_accuracy: 1.0000\n",
            "Epoch 17/100\n",
            "5/5 [==============================] - 0s 7ms/step - loss: 0.3589 - accuracy: 1.0000 - val_loss: 0.4004 - val_accuracy: 1.0000\n",
            "Epoch 18/100\n",
            "5/5 [==============================] - 0s 9ms/step - loss: 0.3318 - accuracy: 1.0000 - val_loss: 0.3799 - val_accuracy: 1.0000\n",
            "Epoch 19/100\n",
            "5/5 [==============================] - 0s 7ms/step - loss: 0.3096 - accuracy: 1.0000 - val_loss: 0.3596 - val_accuracy: 1.0000\n",
            "Epoch 20/100\n",
            "5/5 [==============================] - 0s 7ms/step - loss: 0.2827 - accuracy: 1.0000 - val_loss: 0.3396 - val_accuracy: 1.0000\n",
            "Epoch 21/100\n",
            "5/5 [==============================] - 0s 8ms/step - loss: 0.2573 - accuracy: 1.0000 - val_loss: 0.3202 - val_accuracy: 1.0000\n",
            "Epoch 22/100\n",
            "5/5 [==============================] - 0s 7ms/step - loss: 0.2483 - accuracy: 1.0000 - val_loss: 0.3015 - val_accuracy: 1.0000\n",
            "Epoch 23/100\n",
            "5/5 [==============================] - 0s 8ms/step - loss: 0.2141 - accuracy: 1.0000 - val_loss: 0.2836 - val_accuracy: 1.0000\n",
            "Epoch 24/100\n",
            "5/5 [==============================] - 0s 7ms/step - loss: 0.1979 - accuracy: 1.0000 - val_loss: 0.2666 - val_accuracy: 1.0000\n",
            "Epoch 25/100\n",
            "5/5 [==============================] - 0s 7ms/step - loss: 0.2000 - accuracy: 1.0000 - val_loss: 0.2505 - val_accuracy: 1.0000\n",
            "Epoch 26/100\n",
            "5/5 [==============================] - 0s 8ms/step - loss: 0.1689 - accuracy: 1.0000 - val_loss: 0.2353 - val_accuracy: 1.0000\n",
            "Epoch 27/100\n",
            "5/5 [==============================] - 0s 9ms/step - loss: 0.1490 - accuracy: 1.0000 - val_loss: 0.2214 - val_accuracy: 1.0000\n",
            "Epoch 28/100\n",
            "5/5 [==============================] - 0s 8ms/step - loss: 0.1433 - accuracy: 1.0000 - val_loss: 0.2084 - val_accuracy: 1.0000\n",
            "Epoch 29/100\n",
            "5/5 [==============================] - 0s 8ms/step - loss: 0.1286 - accuracy: 1.0000 - val_loss: 0.1962 - val_accuracy: 1.0000\n",
            "Epoch 30/100\n",
            "5/5 [==============================] - 0s 8ms/step - loss: 0.1276 - accuracy: 1.0000 - val_loss: 0.1845 - val_accuracy: 1.0000\n",
            "Epoch 31/100\n",
            "5/5 [==============================] - 0s 9ms/step - loss: 0.1051 - accuracy: 1.0000 - val_loss: 0.1736 - val_accuracy: 1.0000\n",
            "Epoch 32/100\n",
            "5/5 [==============================] - 0s 8ms/step - loss: 0.0969 - accuracy: 1.0000 - val_loss: 0.1638 - val_accuracy: 1.0000\n",
            "Epoch 33/100\n",
            "5/5 [==============================] - 0s 8ms/step - loss: 0.0887 - accuracy: 1.0000 - val_loss: 0.1549 - val_accuracy: 1.0000\n",
            "Epoch 34/100\n",
            "5/5 [==============================] - 0s 8ms/step - loss: 0.0809 - accuracy: 1.0000 - val_loss: 0.1469 - val_accuracy: 1.0000\n",
            "Epoch 35/100\n",
            "5/5 [==============================] - 0s 8ms/step - loss: 0.0747 - accuracy: 1.0000 - val_loss: 0.1395 - val_accuracy: 1.0000\n",
            "Epoch 36/100\n",
            "5/5 [==============================] - 0s 8ms/step - loss: 0.0735 - accuracy: 1.0000 - val_loss: 0.1327 - val_accuracy: 1.0000\n",
            "Epoch 37/100\n",
            "5/5 [==============================] - 0s 8ms/step - loss: 0.0645 - accuracy: 1.0000 - val_loss: 0.1263 - val_accuracy: 1.0000\n",
            "Epoch 38/100\n",
            "5/5 [==============================] - 0s 10ms/step - loss: 0.0575 - accuracy: 1.0000 - val_loss: 0.1204 - val_accuracy: 1.0000\n",
            "Epoch 39/100\n",
            "5/5 [==============================] - 0s 7ms/step - loss: 0.0517 - accuracy: 1.0000 - val_loss: 0.1152 - val_accuracy: 1.0000\n",
            "Epoch 40/100\n",
            "5/5 [==============================] - 0s 7ms/step - loss: 0.0528 - accuracy: 1.0000 - val_loss: 0.1101 - val_accuracy: 1.0000\n",
            "Epoch 41/100\n",
            "5/5 [==============================] - 0s 8ms/step - loss: 0.0435 - accuracy: 1.0000 - val_loss: 0.1055 - val_accuracy: 1.0000\n",
            "Epoch 42/100\n",
            "5/5 [==============================] - 0s 8ms/step - loss: 0.0408 - accuracy: 1.0000 - val_loss: 0.1012 - val_accuracy: 1.0000\n",
            "Epoch 43/100\n",
            "5/5 [==============================] - 0s 9ms/step - loss: 0.0408 - accuracy: 1.0000 - val_loss: 0.0974 - val_accuracy: 1.0000\n",
            "Epoch 44/100\n",
            "5/5 [==============================] - 0s 8ms/step - loss: 0.0346 - accuracy: 1.0000 - val_loss: 0.0937 - val_accuracy: 1.0000\n",
            "Epoch 45/100\n",
            "5/5 [==============================] - 0s 8ms/step - loss: 0.0323 - accuracy: 1.0000 - val_loss: 0.0904 - val_accuracy: 1.0000\n",
            "Epoch 46/100\n",
            "5/5 [==============================] - 0s 7ms/step - loss: 0.0304 - accuracy: 1.0000 - val_loss: 0.0871 - val_accuracy: 1.0000\n",
            "Epoch 47/100\n",
            "5/5 [==============================] - 0s 8ms/step - loss: 0.0298 - accuracy: 1.0000 - val_loss: 0.0842 - val_accuracy: 1.0000\n",
            "Epoch 48/100\n",
            "5/5 [==============================] - 0s 7ms/step - loss: 0.0317 - accuracy: 1.0000 - val_loss: 0.0815 - val_accuracy: 1.0000\n",
            "Epoch 49/100\n",
            "5/5 [==============================] - 0s 8ms/step - loss: 0.0280 - accuracy: 1.0000 - val_loss: 0.0788 - val_accuracy: 1.0000\n",
            "Epoch 50/100\n",
            "5/5 [==============================] - 0s 8ms/step - loss: 0.0242 - accuracy: 1.0000 - val_loss: 0.0764 - val_accuracy: 1.0000\n",
            "Epoch 51/100\n",
            "5/5 [==============================] - 0s 8ms/step - loss: 0.0295 - accuracy: 1.0000 - val_loss: 0.0741 - val_accuracy: 1.0000\n",
            "Epoch 52/100\n",
            "5/5 [==============================] - 0s 8ms/step - loss: 0.0224 - accuracy: 1.0000 - val_loss: 0.0718 - val_accuracy: 1.0000\n",
            "Epoch 53/100\n",
            "5/5 [==============================] - 0s 8ms/step - loss: 0.0242 - accuracy: 1.0000 - val_loss: 0.0698 - val_accuracy: 1.0000\n",
            "Epoch 54/100\n",
            "5/5 [==============================] - 0s 10ms/step - loss: 0.0207 - accuracy: 1.0000 - val_loss: 0.0678 - val_accuracy: 1.0000\n",
            "Epoch 55/100\n",
            "5/5 [==============================] - 0s 8ms/step - loss: 0.0190 - accuracy: 1.0000 - val_loss: 0.0659 - val_accuracy: 1.0000\n",
            "Epoch 56/100\n",
            "5/5 [==============================] - 0s 10ms/step - loss: 0.0163 - accuracy: 1.0000 - val_loss: 0.0642 - val_accuracy: 1.0000\n",
            "Epoch 57/100\n",
            "5/5 [==============================] - 0s 9ms/step - loss: 0.0152 - accuracy: 1.0000 - val_loss: 0.0627 - val_accuracy: 1.0000\n",
            "Epoch 58/100\n",
            "5/5 [==============================] - 0s 8ms/step - loss: 0.0161 - accuracy: 1.0000 - val_loss: 0.0612 - val_accuracy: 1.0000\n",
            "Epoch 59/100\n",
            "5/5 [==============================] - 0s 8ms/step - loss: 0.0142 - accuracy: 1.0000 - val_loss: 0.0597 - val_accuracy: 1.0000\n",
            "Epoch 60/100\n",
            "5/5 [==============================] - 0s 8ms/step - loss: 0.0152 - accuracy: 1.0000 - val_loss: 0.0583 - val_accuracy: 1.0000\n",
            "Epoch 61/100\n",
            "5/5 [==============================] - 0s 8ms/step - loss: 0.0146 - accuracy: 1.0000 - val_loss: 0.0570 - val_accuracy: 1.0000\n",
            "Epoch 62/100\n",
            "5/5 [==============================] - 0s 8ms/step - loss: 0.0122 - accuracy: 1.0000 - val_loss: 0.0557 - val_accuracy: 1.0000\n",
            "Epoch 63/100\n",
            "5/5 [==============================] - 0s 8ms/step - loss: 0.0116 - accuracy: 1.0000 - val_loss: 0.0546 - val_accuracy: 1.0000\n",
            "Epoch 64/100\n",
            "5/5 [==============================] - 0s 8ms/step - loss: 0.0129 - accuracy: 1.0000 - val_loss: 0.0535 - val_accuracy: 1.0000\n",
            "Epoch 65/100\n",
            "5/5 [==============================] - 0s 9ms/step - loss: 0.0124 - accuracy: 1.0000 - val_loss: 0.0524 - val_accuracy: 1.0000\n",
            "Epoch 66/100\n",
            "5/5 [==============================] - 0s 8ms/step - loss: 0.0151 - accuracy: 1.0000 - val_loss: 0.0513 - val_accuracy: 1.0000\n",
            "Epoch 67/100\n",
            "5/5 [==============================] - 0s 8ms/step - loss: 0.0113 - accuracy: 1.0000 - val_loss: 0.0502 - val_accuracy: 1.0000\n",
            "Epoch 68/100\n",
            "5/5 [==============================] - 0s 8ms/step - loss: 0.0102 - accuracy: 1.0000 - val_loss: 0.0491 - val_accuracy: 1.0000\n",
            "Epoch 69/100\n",
            "5/5 [==============================] - 0s 7ms/step - loss: 0.0109 - accuracy: 1.0000 - val_loss: 0.0482 - val_accuracy: 1.0000\n",
            "Epoch 70/100\n",
            "5/5 [==============================] - 0s 7ms/step - loss: 0.0095 - accuracy: 1.0000 - val_loss: 0.0473 - val_accuracy: 1.0000\n",
            "Epoch 71/100\n",
            "5/5 [==============================] - 0s 9ms/step - loss: 0.0092 - accuracy: 1.0000 - val_loss: 0.0464 - val_accuracy: 1.0000\n",
            "Epoch 72/100\n",
            "5/5 [==============================] - 0s 7ms/step - loss: 0.0088 - accuracy: 1.0000 - val_loss: 0.0456 - val_accuracy: 1.0000\n",
            "Epoch 73/100\n",
            "5/5 [==============================] - 0s 8ms/step - loss: 0.0092 - accuracy: 1.0000 - val_loss: 0.0448 - val_accuracy: 1.0000\n",
            "Epoch 74/100\n",
            "5/5 [==============================] - 0s 8ms/step - loss: 0.0089 - accuracy: 1.0000 - val_loss: 0.0440 - val_accuracy: 1.0000\n",
            "Epoch 75/100\n",
            "5/5 [==============================] - 0s 8ms/step - loss: 0.0070 - accuracy: 1.0000 - val_loss: 0.0433 - val_accuracy: 1.0000\n",
            "Epoch 76/100\n",
            "5/5 [==============================] - 0s 9ms/step - loss: 0.0077 - accuracy: 1.0000 - val_loss: 0.0426 - val_accuracy: 1.0000\n",
            "Epoch 77/100\n",
            "5/5 [==============================] - 0s 8ms/step - loss: 0.0075 - accuracy: 1.0000 - val_loss: 0.0419 - val_accuracy: 1.0000\n",
            "Epoch 78/100\n",
            "5/5 [==============================] - 0s 8ms/step - loss: 0.0069 - accuracy: 1.0000 - val_loss: 0.0413 - val_accuracy: 1.0000\n",
            "Epoch 79/100\n",
            "5/5 [==============================] - 0s 8ms/step - loss: 0.0070 - accuracy: 1.0000 - val_loss: 0.0407 - val_accuracy: 1.0000\n",
            "Epoch 80/100\n",
            "5/5 [==============================] - 0s 7ms/step - loss: 0.0068 - accuracy: 1.0000 - val_loss: 0.0401 - val_accuracy: 1.0000\n",
            "Epoch 81/100\n",
            "5/5 [==============================] - 0s 8ms/step - loss: 0.0062 - accuracy: 1.0000 - val_loss: 0.0395 - val_accuracy: 1.0000\n",
            "Epoch 82/100\n",
            "5/5 [==============================] - 0s 8ms/step - loss: 0.0067 - accuracy: 1.0000 - val_loss: 0.0389 - val_accuracy: 1.0000\n",
            "Epoch 83/100\n",
            "5/5 [==============================] - 0s 7ms/step - loss: 0.0062 - accuracy: 1.0000 - val_loss: 0.0383 - val_accuracy: 1.0000\n",
            "Epoch 84/100\n",
            "5/5 [==============================] - 0s 8ms/step - loss: 0.0063 - accuracy: 1.0000 - val_loss: 0.0378 - val_accuracy: 1.0000\n",
            "Epoch 85/100\n",
            "5/5 [==============================] - 0s 9ms/step - loss: 0.0068 - accuracy: 1.0000 - val_loss: 0.0372 - val_accuracy: 1.0000\n",
            "Epoch 86/100\n",
            "5/5 [==============================] - 0s 8ms/step - loss: 0.0066 - accuracy: 1.0000 - val_loss: 0.0366 - val_accuracy: 1.0000\n",
            "Epoch 87/100\n",
            "5/5 [==============================] - 0s 10ms/step - loss: 0.0062 - accuracy: 1.0000 - val_loss: 0.0361 - val_accuracy: 1.0000\n",
            "Epoch 88/100\n",
            "5/5 [==============================] - 0s 8ms/step - loss: 0.0058 - accuracy: 1.0000 - val_loss: 0.0356 - val_accuracy: 1.0000\n",
            "Epoch 89/100\n",
            "5/5 [==============================] - 0s 9ms/step - loss: 0.0058 - accuracy: 1.0000 - val_loss: 0.0351 - val_accuracy: 1.0000\n",
            "Epoch 90/100\n",
            "5/5 [==============================] - 0s 8ms/step - loss: 0.0048 - accuracy: 1.0000 - val_loss: 0.0346 - val_accuracy: 1.0000\n",
            "Epoch 91/100\n",
            "5/5 [==============================] - 0s 8ms/step - loss: 0.0065 - accuracy: 1.0000 - val_loss: 0.0341 - val_accuracy: 1.0000\n",
            "Epoch 92/100\n",
            "5/5 [==============================] - 0s 8ms/step - loss: 0.0054 - accuracy: 1.0000 - val_loss: 0.0336 - val_accuracy: 1.0000\n",
            "Epoch 93/100\n",
            "5/5 [==============================] - 0s 9ms/step - loss: 0.0053 - accuracy: 1.0000 - val_loss: 0.0331 - val_accuracy: 1.0000\n",
            "Epoch 94/100\n",
            "5/5 [==============================] - 0s 8ms/step - loss: 0.0044 - accuracy: 1.0000 - val_loss: 0.0327 - val_accuracy: 1.0000\n",
            "Epoch 95/100\n",
            "5/5 [==============================] - 0s 8ms/step - loss: 0.0053 - accuracy: 1.0000 - val_loss: 0.0323 - val_accuracy: 1.0000\n",
            "Epoch 96/100\n",
            "5/5 [==============================] - 0s 7ms/step - loss: 0.0043 - accuracy: 1.0000 - val_loss: 0.0318 - val_accuracy: 1.0000\n",
            "Epoch 97/100\n",
            "5/5 [==============================] - 0s 7ms/step - loss: 0.0042 - accuracy: 1.0000 - val_loss: 0.0314 - val_accuracy: 1.0000\n",
            "Epoch 98/100\n",
            "5/5 [==============================] - 0s 8ms/step - loss: 0.0043 - accuracy: 1.0000 - val_loss: 0.0311 - val_accuracy: 1.0000\n",
            "Epoch 99/100\n",
            "5/5 [==============================] - 0s 9ms/step - loss: 0.0055 - accuracy: 1.0000 - val_loss: 0.0306 - val_accuracy: 1.0000\n",
            "Epoch 100/100\n",
            "5/5 [==============================] - 0s 8ms/step - loss: 0.0039 - accuracy: 1.0000 - val_loss: 0.0302 - val_accuracy: 1.0000\n"
          ],
          "name": "stdout"
        }
      ]
    },
    {
      "cell_type": "code",
      "metadata": {
        "id": "nuL74scpq2l4",
        "colab_type": "code",
        "outputId": "622657b1-a305-4ab7-d1b5-45b29a9fd4ae",
        "colab": {
          "base_uri": "https://localhost:8080/",
          "height": 1000
        }
      },
      "source": [
        "import matplotlib.pyplot as plt\n",
        "\n",
        "history_dict = history.history\n",
        "\n",
        "acc = history_dict['accuracy']\n",
        "val_acc = history_dict['val_accuracy']\n",
        "loss=history_dict['loss']\n",
        "val_loss=history_dict['val_loss']\n",
        "\n",
        "epochs = range(1, len(acc) + 1)\n",
        "\n",
        "plt.figure(figsize=(12,9))\n",
        "plt.plot(epochs, loss, 'bo', label='Training loss')\n",
        "plt.plot(epochs, val_loss, 'b', label='Validation loss')\n",
        "plt.title('Training and validation loss')\n",
        "plt.xlabel('Epochs')\n",
        "plt.ylabel('Loss')\n",
        "plt.legend()\n",
        "plt.show()\n",
        "\n",
        "plt.figure(figsize=(12,9))\n",
        "plt.plot(epochs, acc, 'bo', label='Training acc')\n",
        "plt.plot(epochs, val_acc, 'b', label='Validation acc')\n",
        "plt.title('Training and validation accuracy')\n",
        "plt.xlabel('Epochs')\n",
        "plt.ylabel('Accuracy')\n",
        "plt.legend(loc='lower right')\n",
        "plt.ylim((0.5,1))\n",
        "plt.show()"
      ],
      "execution_count": 0,
      "outputs": [
        {
          "output_type": "display_data",
          "data": {
            "image/png": "[encoded data removed]",
            "text/plain": [
              "<Figure size 864x648 with 1 Axes>"
            ]
          },
          "metadata": {
            "tags": []
          }
        },
        {
          "output_type": "display_data",
          "data": {
            "image/png": "[encoded data removed]",
            "text/plain": [
              "<Figure size 864x648 with 1 Axes>"
            ]
          },
          "metadata": {
            "tags": []
          }
        }
      ]
    },
    {
      "cell_type": "code",
      "metadata": {
        "id": "k3mwBlfqq6ZN",
        "colab_type": "code",
        "outputId": "745f97c2-adfe-4d44-91a2-1b1d4f52cfd7",
        "colab": {
          "base_uri": "https://localhost:8080/",
          "height": 34
        }
      },
      "source": [
        "e = model.layers[0]\n",
        "weights = e.get_weights()[0]\n",
        "print(weights.shape) # shape: (vocab_size, embedding_dim)"
      ],
      "execution_count": 31,
      "outputs": [
        {
          "output_type": "stream",
          "text": [
            "(290, 16)\n"
          ],
          "name": "stdout"
        }
      ]
    },
    {
      "cell_type": "code",
      "metadata": {
        "id": "wLd8fN-0I1FW",
        "colab_type": "code",
        "colab": {}
      },
      "source": [
        "print (vocabulary_set)"
      ],
      "execution_count": 0,
      "outputs": []
    },
    {
      "cell_type": "code",
      "metadata": {
        "id": "lmNtnfw4q9sL",
        "colab_type": "code",
        "colab": {}
      },
      "source": [
        "import io\n",
        "\n",
        "#encoder = info.features['text'].encoder\n",
        "\n",
        "out_v = io.open('vecs.tsv', 'w', encoding='utf-8')\n",
        "out_m = io.open('meta.tsv', 'w', encoding='utf-8')\n",
        "\n",
        "#for num, word in enumerate(encoder.subwords):\n",
        "for num, word in enumerate(vocabulary_set):\n",
        "  print (num, \"\\n\", word)\n",
        "  vec = weights[num+1] # skip 0, it's padding.\n",
        "  out_m.write(word + \"\\n\")\n",
        "  out_v.write('\\t'.join([str(x) for x in vec]) + \"\\n\")\n",
        "out_v.close()\n",
        "out_m.close()"
      ],
      "execution_count": 0,
      "outputs": []
    },
    {
      "cell_type": "code",
      "metadata": {
        "id": "ACsKqawqrA6A",
        "colab_type": "code",
        "colab": {}
      },
      "source": [
        "try:\n",
        "  from google.colab import files\n",
        "except ImportError:\n",
        "   pass\n",
        "else:\n",
        "  files.download('vecs.tsv')\n",
        "  files.download('meta.tsv')"
      ],
      "execution_count": 0,
      "outputs": []
    },
    {
      "cell_type": "markdown",
      "metadata": {
        "id": "jQq2Hm2VrmlK",
        "colab_type": "text"
      },
      "source": [
        "# Visualize the embeddings\n",
        "To visualize our embeddings we will upload them to the embedding projector.\n",
        "\n",
        "Open the Embedding Projector (http://projector.tensorflow.org).\n",
        "\n",
        "Click on \"Load data\".\n",
        "Upload the two files we created above: vecs.tsv and meta.tsv.\n",
        "The embeddings you have trained will now be displayed. You can search for words to find their closest neighbors. For example, try searching for \"beautiful\". You may see neighbors like \"wonderful\"."
      ]
    },
    {
      "cell_type": "markdown",
      "metadata": {
        "id": "HMhrHtYkN-6x",
        "colab_type": "text"
      },
      "source": [
        "![alt text](https://)"
      ]
    }
  ]
}